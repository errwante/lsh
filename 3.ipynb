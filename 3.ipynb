{
 "cells": [
  {
   "cell_type": "code",
   "execution_count": 4,
   "metadata": {
    "collapsed": false
   },
   "outputs": [],
   "source": [
    "from math import *\n",
    "\n",
    "\n",
    "def catalan(i):\n",
    "  return factorial(2*i)/(factorial(i+1)*factorial(i))\n",
    "  \n",
    "def die_at(n):\n",
    "  i = int(n/2)\n",
    "  p = catalan(i)*(1/3)**(i+1)*(2/3)**(i-1)\n",
    "  return p \n",
    "  \n",
    "def alive_at(n):\n",
    "  sum = 0\n",
    "  for el in [x for x in range(1,n+1) if x % 2 ==0]:\n",
    "   \n",
    "    sum+= die_at(el)\n",
    "  p = 1-sum\n",
    "  return p\n",
    "\n",
    "#Вычисляем вероятность падения на для четных шагов(падение возможно только на четном шаге). \n",
    "#Вероятность падение после n-го шага равна сумме вероятностей падения на предшествующих шагах\n",
    "#Вероятность падения на n-м шаге - (1-p)^(i+1)*p^(i-1)*Ci, С - числа Каталана, показывают число путей к обрыву\n",
    "#для n-го шага. "
   ]
  },
  {
   "cell_type": "code",
   "execution_count": 9,
   "metadata": {
    "collapsed": false
   },
   "outputs": [
    {
     "name": "stdout",
     "output_type": "stream",
     "text": [
      "0.8395061728395061\n"
     ]
    }
   ],
   "source": [
    "print(alive_at(5))"
   ]
  },
  {
   "cell_type": "code",
   "execution_count": 2,
   "metadata": {
    "collapsed": false
   },
   "outputs": [
    {
     "data": {
      "image/png": "[encoded data removed]",
      "text/plain": [
       "<matplotlib.figure.Figure at 0x7fa51c6a7d68>"
      ]
     },
     "metadata": {},
     "output_type": "display_data"
    }
   ],
   "source": [
    "import matplotlib.pyplot as plt\n",
    "n = 150\n",
    "x = [x for x in range(n)]\n",
    "y = [alive_at(n) for n in range(n)]\n",
    "plt.plot(x, y)\n",
    "plt.axis([0,150,0,1])\n",
    "plt.show()"
   ]
  }
 ],
 "metadata": {
  "kernelspec": {
   "display_name": "Python [py3]",
   "language": "python",
   "name": "Python [py3]"
  },
  "language_info": {
   "codemirror_mode": {
    "name": "ipython",
    "version": 3
   },
   "file_extension": ".py",
   "mimetype": "text/x-python",
   "name": "python",
   "nbconvert_exporter": "python",
   "pygments_lexer": "ipython3",
   "version": "3.5.2"
  }
 },
 "nbformat": 4,
 "nbformat_minor": 2
}
